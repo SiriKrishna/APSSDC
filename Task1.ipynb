{
 "cells": [
  {
   "cell_type": "code",
   "execution_count": 1,
   "id": "victorian-session",
   "metadata": {},
   "outputs": [
    {
     "name": "stdout",
     "output_type": "stream",
     "text": [
      "sirikrishna\n",
      "Given string is:  sirikrishna\n",
      "Given string is:  sirikrishna\n",
      "Alphabets in sirikrishna is:  s i r i k r i s h n a\n",
      "Numbers in sirikrishna is: \n",
      "Special characters in sirikrishna is: \n"
     ]
    }
   ],
   "source": [
    "s=input()\n",
    "alp=\"\"\n",
    "num=\"\"\n",
    "sc=\"\"\n",
    "print(\"Given string is: \",s)\n",
    "for i in s:\n",
    "    if i.isalpha():\n",
    "        alp+=\" \"+i\n",
    "    elif i.isalnum():\n",
    "        num+=\" \"+i\n",
    "    elif not i.isalnum():\n",
    "        sc+=\" \"+i\n",
    "print(\"Given string is: \",s)\n",
    "print(\"Alphabets in \"+s+\" is:\",alp)\n",
    "print(\"Numbers in \"+s+\" is:\",num)\n",
    "print(\"Special characters in \"+s+\" is:\",sc)\n"
   ]
  },
  {
   "cell_type": "code",
   "execution_count": 2,
   "id": "neither-duncan",
   "metadata": {},
   "outputs": [
    {
     "name": "stdout",
     "output_type": "stream",
     "text": [
      "4500\n",
      "Given number is:  4500\n",
      "Even numbers are:  4 0 0 \n",
      "odd numbers are:  5 \n"
     ]
    }
   ],
   "source": [
    "def function(n):\n",
    "    print(\"Given number is: \",n)\n",
    "    ev=\"\"\n",
    "    od=\"\"\n",
    "    while(n>0):\n",
    "        r=n%10\n",
    "        n=n//10\n",
    "        if(r%2==0):\n",
    "            ev=str(r)+\" \"+ev\n",
    "        else:\n",
    "            od=str(r)+\" \"+od\n",
    "    print(\"Even numbers are: \",ev)\n",
    "    print(\"odd numbers are: \",od)\n",
    "    \n",
    "n=int(input())\n",
    "function(n)"
   ]
  },
  {
   "cell_type": "code",
   "execution_count": null,
   "id": "referenced-parker",
   "metadata": {},
   "outputs": [],
   "source": []
  }
 ],
 "metadata": {
  "kernelspec": {
   "display_name": "Python 3",
   "language": "python",
   "name": "python3"
  },
  "language_info": {
   "codemirror_mode": {
    "name": "ipython",
    "version": 3
   },
   "file_extension": ".py",
   "mimetype": "text/x-python",
   "name": "python",
   "nbconvert_exporter": "python",
   "pygments_lexer": "ipython3",
   "version": "3.6.13"
  }
 },
 "nbformat": 4,
 "nbformat_minor": 5
}
